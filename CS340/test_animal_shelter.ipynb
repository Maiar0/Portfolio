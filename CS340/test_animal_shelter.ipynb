{
 "cells": [
  {
   "cell_type": "code",
   "execution_count": 1,
   "id": "c3b78e0a",
   "metadata": {},
   "outputs": [
    {
     "name": "stdout",
     "output_type": "stream",
     "text": [
      "Create operation successful: True\n",
      "Read result: \n",
      "{'_id': ObjectId('6688b24a11a4838dfa41fe1a'), 'animal_id': 'A123456', 'name': 'Jack', 'type': 'Dog'}\n",
      "Update operation successful: True\n",
      "Delete operation successful: True\n",
      "Read result: \n"
     ]
    }
   ],
   "source": [
    "from animal_shelter import AnimalShelter\n",
    "import animal_shelter\n",
    "from pymongo import MongoClient\n",
    "import animal_shelter\n",
    "\n",
    "# Instantiate AnimalShelter\n",
    "USER = username ='aacuser'\n",
    "PASS = password ='SNHU1234'\n",
    "shelter = animal_shelter.AnimalShelter(username,password)\n",
    "\n",
    "# create\n",
    "data = {\"animal_id\": \"A123456\", \"name\": \"Jack\", \"type\": \"Dog\"}\n",
    "create_result = shelter.create(data)\n",
    "print(f\"Create operation successful: {create_result}\")\n",
    "\n",
    "#read\n",
    "query = {\"type\": \"Dog\"}\n",
    "read_result = shelter.read(query)\n",
    "print(\"Read result: \")\n",
    "for doc in read_result:\n",
    "    print(doc)\n",
    "    \n",
    "#update \n",
    "update_query = {\"animal_id\": \"A123456\"}\n",
    "update_data = {\"name\": \"Jack Updated\"}\n",
    "update_result = shelter.update(update_query, update_data)\n",
    "print(f\"Update operation successful: {update_result}\")\n",
    "\n",
    "#delete \n",
    "delete_query = {\"animal_id\": \"A123456\"}\n",
    "delete_result = shelter.delete(delete_query)\n",
    "print(f\"Delete operation successful: {delete_result}\")\n",
    "\n",
    "\n"
   ]
  },
  {
   "cell_type": "code",
   "execution_count": null,
   "id": "bf44f46b",
   "metadata": {},
   "outputs": [],
   "source": []
  },
  {
   "cell_type": "code",
   "execution_count": null,
   "id": "7571f9d8",
   "metadata": {},
   "outputs": [],
   "source": []
  },
  {
   "cell_type": "code",
   "execution_count": null,
   "id": "951cd68c",
   "metadata": {},
   "outputs": [],
   "source": []
  }
 ],
 "metadata": {
  "kernelspec": {
   "display_name": "Python 3 (ipykernel)",
   "language": "python",
   "name": "python3"
  },
  "language_info": {
   "codemirror_mode": {
    "name": "ipython",
    "version": 3
   },
   "file_extension": ".py",
   "mimetype": "text/x-python",
   "name": "python",
   "nbconvert_exporter": "python",
   "pygments_lexer": "ipython3",
   "version": "3.9.12"
  }
 },
 "nbformat": 4,
 "nbformat_minor": 5
}
